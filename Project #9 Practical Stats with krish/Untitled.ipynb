{
 "cells": [
  {
   "cell_type": "code",
   "execution_count": 2,
   "id": "78efaeb1-88f0-4961-9712-cd46842b8ee2",
   "metadata": {},
   "outputs": [],
   "source": [
    "import pandas as pd"
   ]
  },
  {
   "cell_type": "code",
   "execution_count": 4,
   "id": "3b883830-4822-45ed-954a-2aeeea104659",
   "metadata": {},
   "outputs": [
    {
     "data": {
      "text/html": [
       "<div>\n",
       "<style scoped>\n",
       "    .dataframe tbody tr th:only-of-type {\n",
       "        vertical-align: middle;\n",
       "    }\n",
       "\n",
       "    .dataframe tbody tr th {\n",
       "        vertical-align: top;\n",
       "    }\n",
       "\n",
       "    .dataframe thead th {\n",
       "        text-align: right;\n",
       "    }\n",
       "</style>\n",
       "<table border=\"1\" class=\"dataframe\">\n",
       "  <thead>\n",
       "    <tr style=\"text-align: right;\">\n",
       "      <th></th>\n",
       "      <th>Rank</th>\n",
       "      <th>Team/NOC</th>\n",
       "      <th>Gold</th>\n",
       "      <th>Silver</th>\n",
       "      <th>Bronze</th>\n",
       "      <th>Total</th>\n",
       "      <th>Rank by Total</th>\n",
       "    </tr>\n",
       "  </thead>\n",
       "  <tbody>\n",
       "    <tr>\n",
       "      <th>0</th>\n",
       "      <td>1</td>\n",
       "      <td>United States of America</td>\n",
       "      <td>39</td>\n",
       "      <td>41</td>\n",
       "      <td>33</td>\n",
       "      <td>113</td>\n",
       "      <td>1</td>\n",
       "    </tr>\n",
       "    <tr>\n",
       "      <th>1</th>\n",
       "      <td>2</td>\n",
       "      <td>People's Republic of China</td>\n",
       "      <td>38</td>\n",
       "      <td>32</td>\n",
       "      <td>18</td>\n",
       "      <td>88</td>\n",
       "      <td>2</td>\n",
       "    </tr>\n",
       "    <tr>\n",
       "      <th>2</th>\n",
       "      <td>3</td>\n",
       "      <td>Japan</td>\n",
       "      <td>27</td>\n",
       "      <td>14</td>\n",
       "      <td>17</td>\n",
       "      <td>58</td>\n",
       "      <td>5</td>\n",
       "    </tr>\n",
       "    <tr>\n",
       "      <th>3</th>\n",
       "      <td>4</td>\n",
       "      <td>Great Britain</td>\n",
       "      <td>22</td>\n",
       "      <td>21</td>\n",
       "      <td>22</td>\n",
       "      <td>65</td>\n",
       "      <td>4</td>\n",
       "    </tr>\n",
       "    <tr>\n",
       "      <th>4</th>\n",
       "      <td>5</td>\n",
       "      <td>ROC</td>\n",
       "      <td>20</td>\n",
       "      <td>28</td>\n",
       "      <td>23</td>\n",
       "      <td>71</td>\n",
       "      <td>3</td>\n",
       "    </tr>\n",
       "    <tr>\n",
       "      <th>...</th>\n",
       "      <td>...</td>\n",
       "      <td>...</td>\n",
       "      <td>...</td>\n",
       "      <td>...</td>\n",
       "      <td>...</td>\n",
       "      <td>...</td>\n",
       "      <td>...</td>\n",
       "    </tr>\n",
       "    <tr>\n",
       "      <th>88</th>\n",
       "      <td>86</td>\n",
       "      <td>Ghana</td>\n",
       "      <td>0</td>\n",
       "      <td>0</td>\n",
       "      <td>1</td>\n",
       "      <td>1</td>\n",
       "      <td>77</td>\n",
       "    </tr>\n",
       "    <tr>\n",
       "      <th>89</th>\n",
       "      <td>86</td>\n",
       "      <td>Grenada</td>\n",
       "      <td>0</td>\n",
       "      <td>0</td>\n",
       "      <td>1</td>\n",
       "      <td>1</td>\n",
       "      <td>77</td>\n",
       "    </tr>\n",
       "    <tr>\n",
       "      <th>90</th>\n",
       "      <td>86</td>\n",
       "      <td>Kuwait</td>\n",
       "      <td>0</td>\n",
       "      <td>0</td>\n",
       "      <td>1</td>\n",
       "      <td>1</td>\n",
       "      <td>77</td>\n",
       "    </tr>\n",
       "    <tr>\n",
       "      <th>91</th>\n",
       "      <td>86</td>\n",
       "      <td>Republic of Moldova</td>\n",
       "      <td>0</td>\n",
       "      <td>0</td>\n",
       "      <td>1</td>\n",
       "      <td>1</td>\n",
       "      <td>77</td>\n",
       "    </tr>\n",
       "    <tr>\n",
       "      <th>92</th>\n",
       "      <td>86</td>\n",
       "      <td>Syrian Arab Republic</td>\n",
       "      <td>0</td>\n",
       "      <td>0</td>\n",
       "      <td>1</td>\n",
       "      <td>1</td>\n",
       "      <td>77</td>\n",
       "    </tr>\n",
       "  </tbody>\n",
       "</table>\n",
       "<p>93 rows × 7 columns</p>\n",
       "</div>"
      ],
      "text/plain": [
       "    Rank                    Team/NOC  Gold  Silver  Bronze  Total  \\\n",
       "0      1    United States of America    39      41      33    113   \n",
       "1      2  People's Republic of China    38      32      18     88   \n",
       "2      3                       Japan    27      14      17     58   \n",
       "3      4               Great Britain    22      21      22     65   \n",
       "4      5                         ROC    20      28      23     71   \n",
       "..   ...                         ...   ...     ...     ...    ...   \n",
       "88    86                       Ghana     0       0       1      1   \n",
       "89    86                     Grenada     0       0       1      1   \n",
       "90    86                      Kuwait     0       0       1      1   \n",
       "91    86         Republic of Moldova     0       0       1      1   \n",
       "92    86        Syrian Arab Republic     0       0       1      1   \n",
       "\n",
       "    Rank by Total  \n",
       "0               1  \n",
       "1               2  \n",
       "2               5  \n",
       "3               4  \n",
       "4               3  \n",
       "..            ...  \n",
       "88             77  \n",
       "89             77  \n",
       "90             77  \n",
       "91             77  \n",
       "92             77  \n",
       "\n",
       "[93 rows x 7 columns]"
      ]
     },
     "execution_count": 4,
     "metadata": {},
     "output_type": "execute_result"
    }
   ],
   "source": [
    "mc = pd.read_excel('medals.xlsx')\n",
    "mc"
   ]
  },
  {
   "cell_type": "markdown",
   "id": "d460db6e-d0f2-4438-bdd3-2648905fadb4",
   "metadata": {},
   "source": [
    "# Estimate of location"
   ]
  },
  {
   "cell_type": "code",
   "execution_count": 15,
   "id": "bdc15c14-9fdf-4430-90fb-4af8bf073450",
   "metadata": {},
   "outputs": [
    {
     "data": {
      "text/plain": [
       "11.612903225806452"
      ]
     },
     "execution_count": 15,
     "metadata": {},
     "output_type": "execute_result"
    }
   ],
   "source": [
    "mc[\"Total\"].mean()"
   ]
  },
  {
   "cell_type": "code",
   "execution_count": 18,
   "id": "1cd06258-dff9-431f-8bc0-40b379e343ee",
   "metadata": {},
   "outputs": [
    {
     "data": {
      "text/plain": [
       "46.832352941176474"
      ]
     },
     "execution_count": 18,
     "metadata": {},
     "output_type": "execute_result"
    }
   ],
   "source": [
    "import numpy as np\n",
    "#weighted mean\n",
    "np.average(mc[\"Total\"], weights=mc[\"Gold\"])"
   ]
  },
  {
   "cell_type": "code",
   "execution_count": 22,
   "id": "bece1251-d4a2-45c9-ad90-409ce145af39",
   "metadata": {},
   "outputs": [
    {
     "data": {
      "text/plain": [
       "1.96"
      ]
     },
     "execution_count": 22,
     "metadata": {},
     "output_type": "execute_result"
    }
   ],
   "source": [
    "#trimmed mean: it will not be sensitive to outliers. will be robust.\n",
    "from scipy.stats import trim_mean\n",
    "trim_mean(mc[\"Gold\"], 0.1)"
   ]
  },
  {
   "cell_type": "markdown",
   "id": "c2a78ac4-3bec-45d2-b1d7-cce98089ac70",
   "metadata": {},
   "source": [
    "### Median is alot more robust. great for heavily skewed values like income levels"
   ]
  },
  {
   "cell_type": "code",
   "execution_count": 23,
   "id": "68927348-fcbc-4bcb-932a-a6d9eb2bf1e4",
   "metadata": {},
   "outputs": [
    {
     "data": {
      "text/plain": [
       "4.0"
      ]
     },
     "execution_count": 23,
     "metadata": {},
     "output_type": "execute_result"
    }
   ],
   "source": [
    "mc[\"Total\"].median()"
   ]
  },
  {
   "cell_type": "code",
   "execution_count": 26,
   "id": "ec44ae57-69e6-411c-969b-344bd69769fb",
   "metadata": {},
   "outputs": [
    {
     "data": {
      "text/plain": [
       "40"
      ]
     },
     "execution_count": 26,
     "metadata": {},
     "output_type": "execute_result"
    }
   ],
   "source": [
    "def weighted_median(df, median_col, weight_col):\n",
    "    df_sorted = df.sort_values(median_col)\n",
    "    cumsum = df_sorted[weight_col].cumsum()\n",
    "    cutoff = df_sorted[weight_col].sum() / 2.\n",
    "    return df_sorted[cumsum >= cutoff][median_col].iloc[0]\n",
    "weighted_median(mc,\"Total\", \"Gold\")"
   ]
  },
  {
   "cell_type": "code",
   "execution_count": 28,
   "id": "cb50cc49-9b61-47b3-b68f-cb0923d71948",
   "metadata": {},
   "outputs": [
    {
     "data": {
      "text/plain": [
       "11.0"
      ]
     },
     "execution_count": 28,
     "metadata": {},
     "output_type": "execute_result"
    }
   ],
   "source": [
    "q3 = np.percentile(mc['Total'], 75)\n",
    "q3"
   ]
  },
  {
   "cell_type": "code",
   "execution_count": 30,
   "id": "dea2569b-1c2e-4c69-a71e-32be7e8f57dd",
   "metadata": {},
   "outputs": [
    {
     "data": {
      "text/html": [
       "<div>\n",
       "<style scoped>\n",
       "    .dataframe tbody tr th:only-of-type {\n",
       "        vertical-align: middle;\n",
       "    }\n",
       "\n",
       "    .dataframe tbody tr th {\n",
       "        vertical-align: top;\n",
       "    }\n",
       "\n",
       "    .dataframe thead th {\n",
       "        text-align: right;\n",
       "    }\n",
       "</style>\n",
       "<table border=\"1\" class=\"dataframe\">\n",
       "  <thead>\n",
       "    <tr style=\"text-align: right;\">\n",
       "      <th></th>\n",
       "      <th>Rank</th>\n",
       "      <th>Gold</th>\n",
       "      <th>Silver</th>\n",
       "      <th>Bronze</th>\n",
       "      <th>Total</th>\n",
       "      <th>Rank by Total</th>\n",
       "    </tr>\n",
       "  </thead>\n",
       "  <tbody>\n",
       "    <tr>\n",
       "      <th>count</th>\n",
       "      <td>93.000000</td>\n",
       "      <td>93.000000</td>\n",
       "      <td>93.000000</td>\n",
       "      <td>93.000000</td>\n",
       "      <td>93.000000</td>\n",
       "      <td>93.000000</td>\n",
       "    </tr>\n",
       "    <tr>\n",
       "      <th>mean</th>\n",
       "      <td>46.333333</td>\n",
       "      <td>3.655914</td>\n",
       "      <td>3.634409</td>\n",
       "      <td>4.322581</td>\n",
       "      <td>11.612903</td>\n",
       "      <td>43.494624</td>\n",
       "    </tr>\n",
       "    <tr>\n",
       "      <th>std</th>\n",
       "      <td>26.219116</td>\n",
       "      <td>7.022471</td>\n",
       "      <td>6.626339</td>\n",
       "      <td>6.210372</td>\n",
       "      <td>19.091332</td>\n",
       "      <td>24.171769</td>\n",
       "    </tr>\n",
       "    <tr>\n",
       "      <th>min</th>\n",
       "      <td>1.000000</td>\n",
       "      <td>0.000000</td>\n",
       "      <td>0.000000</td>\n",
       "      <td>0.000000</td>\n",
       "      <td>1.000000</td>\n",
       "      <td>1.000000</td>\n",
       "    </tr>\n",
       "    <tr>\n",
       "      <th>25%</th>\n",
       "      <td>24.000000</td>\n",
       "      <td>0.000000</td>\n",
       "      <td>0.000000</td>\n",
       "      <td>1.000000</td>\n",
       "      <td>2.000000</td>\n",
       "      <td>23.000000</td>\n",
       "    </tr>\n",
       "    <tr>\n",
       "      <th>50%</th>\n",
       "      <td>46.000000</td>\n",
       "      <td>1.000000</td>\n",
       "      <td>1.000000</td>\n",
       "      <td>2.000000</td>\n",
       "      <td>4.000000</td>\n",
       "      <td>47.000000</td>\n",
       "    </tr>\n",
       "    <tr>\n",
       "      <th>75%</th>\n",
       "      <td>70.000000</td>\n",
       "      <td>3.000000</td>\n",
       "      <td>4.000000</td>\n",
       "      <td>5.000000</td>\n",
       "      <td>11.000000</td>\n",
       "      <td>66.000000</td>\n",
       "    </tr>\n",
       "    <tr>\n",
       "      <th>max</th>\n",
       "      <td>86.000000</td>\n",
       "      <td>39.000000</td>\n",
       "      <td>41.000000</td>\n",
       "      <td>33.000000</td>\n",
       "      <td>113.000000</td>\n",
       "      <td>77.000000</td>\n",
       "    </tr>\n",
       "  </tbody>\n",
       "</table>\n",
       "</div>"
      ],
      "text/plain": [
       "            Rank       Gold     Silver     Bronze       Total  Rank by Total\n",
       "count  93.000000  93.000000  93.000000  93.000000   93.000000      93.000000\n",
       "mean   46.333333   3.655914   3.634409   4.322581   11.612903      43.494624\n",
       "std    26.219116   7.022471   6.626339   6.210372   19.091332      24.171769\n",
       "min     1.000000   0.000000   0.000000   0.000000    1.000000       1.000000\n",
       "25%    24.000000   0.000000   0.000000   1.000000    2.000000      23.000000\n",
       "50%    46.000000   1.000000   1.000000   2.000000    4.000000      47.000000\n",
       "75%    70.000000   3.000000   4.000000   5.000000   11.000000      66.000000\n",
       "max    86.000000  39.000000  41.000000  33.000000  113.000000      77.000000"
      ]
     },
     "execution_count": 30,
     "metadata": {},
     "output_type": "execute_result"
    }
   ],
   "source": [
    "mc.describe()"
   ]
  },
  {
   "cell_type": "markdown",
   "id": "9bde1196-e1fd-4963-b514-ce63275256a7",
   "metadata": {},
   "source": [
    "# Estimate of Variability (Dispersion Metrics)"
   ]
  },
  {
   "cell_type": "markdown",
   "id": "9ecbd72c-7d20-445e-b6c4-471fe971d4fa",
   "metadata": {},
   "source": [
    "### Without variablity we cannot correlate anything to anything else"
   ]
  },
  {
   "cell_type": "markdown",
   "id": "cdf758ab-77e1-42ce-80bb-bc32763a8f2b",
   "metadata": {},
   "source": [
    "### Variance"
   ]
  },
  {
   "cell_type": "code",
   "execution_count": 39,
   "id": "9da65902-19bd-4ed2-8386-452d75e9b203",
   "metadata": {},
   "outputs": [
    {
     "data": {
      "text/plain": [
       "49.315100514259"
      ]
     },
     "execution_count": 39,
     "metadata": {},
     "output_type": "execute_result"
    }
   ],
   "source": [
    "from statistics import variance\n",
    "variance(mc['Gold'])"
   ]
  },
  {
   "cell_type": "markdown",
   "id": "038af54d-f8d0-4d88-9884-534a3f885b68",
   "metadata": {},
   "source": [
    "### STD dev"
   ]
  },
  {
   "cell_type": "code",
   "execution_count": 40,
   "id": "68ff1395-16f6-4339-a062-5dd133d1e4f6",
   "metadata": {},
   "outputs": [
    {
     "data": {
      "text/plain": [
       "7.022471111671376"
      ]
     },
     "execution_count": 40,
     "metadata": {},
     "output_type": "execute_result"
    }
   ],
   "source": [
    "from statistics import stdev\n",
    "stdev(mc[\"Gold\"])"
   ]
  },
  {
   "cell_type": "markdown",
   "id": "0303831b-26cf-419e-b7b3-5faf2f6eaf7a",
   "metadata": {},
   "source": [
    "### Mean absolute dev"
   ]
  },
  {
   "cell_type": "code",
   "execution_count": 48,
   "id": "abe834cf-9683-44ae-8dc1-5d89e8f52b3e",
   "metadata": {},
   "outputs": [
    {
     "data": {
      "text/plain": [
       "4.0048560527228565"
      ]
     },
     "execution_count": 48,
     "metadata": {},
     "output_type": "execute_result"
    }
   ],
   "source": [
    "from numpy import mean, absolute\n",
    "\n",
    "mean(absolute(mc['Gold']-mean(mc['Gold'])))"
   ]
  },
  {
   "cell_type": "markdown",
   "id": "b577c801-364a-4e68-b3f9-8c5c6348dd8e",
   "metadata": {},
   "source": [
    "### Median absolute dev"
   ]
  },
  {
   "cell_type": "code",
   "execution_count": 50,
   "id": "723103e4-6bdf-488e-a705-c1fd245484b1",
   "metadata": {},
   "outputs": [
    {
     "data": {
      "text/plain": [
       "1.0"
      ]
     },
     "execution_count": 50,
     "metadata": {},
     "output_type": "execute_result"
    }
   ],
   "source": [
    "from numpy import median, absolute\n",
    "median(absolute(mc['Gold']-median(mc['Gold'])))"
   ]
  },
  {
   "cell_type": "code",
   "execution_count": 51,
   "id": "775b6df9-0681-4e6c-8ec4-5d2a3d8d90f4",
   "metadata": {},
   "outputs": [
    {
     "data": {
      "text/plain": [
       "3.0"
      ]
     },
     "execution_count": 51,
     "metadata": {},
     "output_type": "execute_result"
    }
   ],
   "source": [
    "q3, q1 = np.percentile(mc['Gold'], [75,25])\n",
    "iqr = q3 - q1\n",
    "iqr"
   ]
  },
  {
   "cell_type": "markdown",
   "id": "efe53271-dacd-4ba6-8643-595de6183f8d",
   "metadata": {},
   "source": [
    "### Exploring the Data distribution"
   ]
  },
  {
   "cell_type": "code",
   "execution_count": 56,
   "id": "5dfa5d49-cf03-4385-828b-877f6df93045",
   "metadata": {},
   "outputs": [
    {
     "data": {
      "text/plain": [
       "<AxesSubplot:>"
      ]
     },
     "execution_count": 56,
     "metadata": {},
     "output_type": "execute_result"
    },
    {
     "data": {
      "image/png": "[encoded data removed]",
      "text/plain": [
       "<Figure size 432x288 with 1 Axes>"
      ]
     },
     "metadata": {
      "needs_background": "light"
     },
     "output_type": "display_data"
    }
   ],
   "source": [
    "mc.boxplot(column=['Total',\"Gold\", \"Bronze\"], by=None, ax=None)"
   ]
  },
  {
   "cell_type": "code",
   "execution_count": 65,
   "id": "7a336353-26a5-48be-8f6f-c0e3566be0b4",
   "metadata": {},
   "outputs": [
    {
     "data": {
      "text/plain": [
       "(array([50., 11., 11.,  5.,  2.,  4.,  0.,  4.,  0.,  0.,  0.,  0.,  0.,\n",
       "         1.,  0.,  1.,  1.,  0.,  0.,  0.,  1.,  0.,  0.,  0.,  0.,  0.,\n",
       "         0.,  0.,  0.,  2.]),\n",
       " array([ 0. ,  1.3,  2.6,  3.9,  5.2,  6.5,  7.8,  9.1, 10.4, 11.7, 13. ,\n",
       "        14.3, 15.6, 16.9, 18.2, 19.5, 20.8, 22.1, 23.4, 24.7, 26. , 27.3,\n",
       "        28.6, 29.9, 31.2, 32.5, 33.8, 35.1, 36.4, 37.7, 39. ]),\n",
       " <BarContainer object of 30 artists>)"
      ]
     },
     "execution_count": 65,
     "metadata": {},
     "output_type": "execute_result"
    },
    {
     "data": {
      "image/png": "[encoded data removed]",
      "text/plain": [
       "<Figure size 432x288 with 1 Axes>"
      ]
     },
     "metadata": {
      "needs_background": "light"
     },
     "output_type": "display_data"
    }
   ],
   "source": [
    "import matplotlib.pyplot as plt\n",
    "plt.hist(x=mc[\"Gold\"], bins='auto', color='#0504aa', alpha=0.7, width=.85)"
   ]
  },
  {
   "cell_type": "code",
   "execution_count": 66,
   "id": "8c5c06f1-15db-41c6-a96b-a39ba97081a6",
   "metadata": {},
   "outputs": [
    {
     "data": {
      "text/plain": [
       "<AxesSubplot:ylabel='Density'>"
      ]
     },
     "execution_count": 66,
     "metadata": {},
     "output_type": "execute_result"
    },
    {
     "data": {
      "image/png": "[encoded data removed]",
      "text/plain": [
       "<Figure size 432x288 with 1 Axes>"
      ]
     },
     "metadata": {
      "needs_background": "light"
     },
     "output_type": "display_data"
    }
   ],
   "source": [
    "ax = mc['Gold'].plot.hist(density=True, xlim=[0,12], bins=range(1,12))\n",
    "mc['Gold'].plot.density(ax=ax)"
   ]
  },
  {
   "cell_type": "markdown",
   "id": "8c3d0e60-d82a-4b51-9d26-2c6f463894bd",
   "metadata": {},
   "source": [
    "### Exploring Binary and Catagorical Data"
   ]
  },
  {
   "cell_type": "code",
   "execution_count": 68,
   "id": "2b4ae942-802e-451b-b973-2c1ffd5a70f7",
   "metadata": {},
   "outputs": [
    {
     "data": {
      "text/plain": [
       "0    0\n",
       "dtype: int64"
      ]
     },
     "execution_count": 68,
     "metadata": {},
     "output_type": "execute_result"
    }
   ],
   "source": [
    "mc[\"Gold\"].mode()"
   ]
  },
  {
   "cell_type": "code",
   "execution_count": 71,
   "id": "c83a8c6c-5434-4046-b258-103cf8bd38f7",
   "metadata": {},
   "outputs": [
    {
     "data": {
      "text/plain": [
       "Text(0, 0.5, 'Country')"
      ]
     },
     "execution_count": 71,
     "metadata": {},
     "output_type": "execute_result"
    },
    {
     "data": {
      "image/png": "[encoded data removed]",
      "text/plain": [
       "<Figure size 288x288 with 1 Axes>"
      ]
     },
     "metadata": {
      "needs_background": "light"
     },
     "output_type": "display_data"
    }
   ],
   "source": [
    "ax = mc.iloc[:10,:].plot.bar(x=\"Team/NOC\", y='Gold', figsize=(4,4), legend = \"False\")\n",
    "ax.set_xlabel('Gold Cuunt')\n",
    "ax.set_ylabel('Country')\n"
   ]
  },
  {
   "cell_type": "code",
   "execution_count": 81,
   "id": "4a84db97-be37-4a42-9f39-a4bcff6b23a1",
   "metadata": {},
   "outputs": [
    {
     "data": {
      "text/plain": [
       "([<matplotlib.patches.Wedge at 0x266ee7b75b0>,\n",
       "  <matplotlib.patches.Wedge at 0x266ee7b7e80>,\n",
       "  <matplotlib.patches.Wedge at 0x266ee7c6850>,\n",
       "  <matplotlib.patches.Wedge at 0x266ee7d4220>,\n",
       "  <matplotlib.patches.Wedge at 0x266ee7d4bb0>,\n",
       "  <matplotlib.patches.Wedge at 0x266ee7e3580>,\n",
       "  <matplotlib.patches.Wedge at 0x266ee7e3f10>,\n",
       "  <matplotlib.patches.Wedge at 0x266ee7ef8e0>,\n",
       "  <matplotlib.patches.Wedge at 0x266ee7fe2b0>,\n",
       "  <matplotlib.patches.Wedge at 0x266ee7fec40>,\n",
       "  <matplotlib.patches.Wedge at 0x266ee7901f0>,\n",
       "  <matplotlib.patches.Wedge at 0x266ee80cf70>,\n",
       "  <matplotlib.patches.Wedge at 0x266ee81a940>,\n",
       "  <matplotlib.patches.Wedge at 0x266ee827310>,\n",
       "  <matplotlib.patches.Wedge at 0x266ee827ca0>],\n",
       " [Text(-0.543674117111456, 0.9562522964066957, 'United States of America'),\n",
       "  Text(-1.0993960437048385, 0.03644638646216122, \"People's Republic of China\"),\n",
       "  Text(-0.7435970386565678, -0.8105945004138525, 'Japan'),\n",
       "  Text(-0.1019222002615756, -1.0952679421465048, 'Great Britain'),\n",
       "  Text(0.4922307915600052, -0.9837219362402218, 'ROC'),\n",
       "  Text(0.8975687815645782, -0.6359011576972311, 'Australia'),\n",
       "  Text(1.06345606304121, -0.28117823881106163, 'Netherlands'),\n",
       "  Text(1.099975839130746, 0.007290632936260442, 'France'),\n",
       "  Text(1.0596354997977235, 0.2952500763224776, 'Germany'),\n",
       "  Text(0.9452538007156959, 0.5625791075329154, 'Italy'),\n",
       "  Text(0.7956498548690093, 0.7595665266761856, 'Canada'),\n",
       "  Text(0.641836040735363, 0.8933344820464246, 'Brazil'),\n",
       "  Text(0.46598096414084994, 0.996424478351653, 'New Zealand'),\n",
       "  Text(0.27412365632132074, 1.0652963066889092, 'Cuba'),\n",
       "  Text(0.08739507036501419, 1.0965227319467181, 'Hungary')],\n",
       " [Text(-0.2965495184244305, 0.5215921616763795, '16.5%'),\n",
       "  Text(-0.5996705692935482, 0.019879847161178847, '16.0%'),\n",
       "  Text(-0.4055983847217642, -0.44214245477119224, '11.4%'),\n",
       "  Text(-0.055593927415404865, -0.5974188775344571, '9.3%'),\n",
       "  Text(0.2684895226690937, -0.5365756015855754, '8.4%'),\n",
       "  Text(0.48958297176249715, -0.34685517692576234, '7.2%'),\n",
       "  Text(0.5800669434770235, -0.15336994844239724, '4.2%'),\n",
       "  Text(0.5999868213440432, 0.003976708874323877, '4.2%'),\n",
       "  Text(0.5779829998896674, 0.16104549617589684, '4.2%'),\n",
       "  Text(0.5155929822085613, 0.3068613313815902, '4.2%'),\n",
       "  Text(0.4339908299285505, 0.41430901455064667, '3.0%'),\n",
       "  Text(0.3500923858556525, 0.48727335384350423, '3.0%'),\n",
       "  Text(0.25417143498591815, 0.5435042609190834, '3.0%'),\n",
       "  Text(0.14952199435708402, 0.5810707127394049, '3.0%'),\n",
       "  Text(0.047670038380916824, 0.5981033083345735, '2.5%')])"
      ]
     },
     "execution_count": 81,
     "metadata": {},
     "output_type": "execute_result"
    },
    {
     "data": {
      "image/png": "[encoded data removed]",
      "text/plain": [
       "<Figure size 432x288 with 1 Axes>"
      ]
     },
     "metadata": {},
     "output_type": "display_data"
    }
   ],
   "source": [
    "# Pie chart (NOT RECOMMENDED)\n",
    "\n",
    "piedata = mc.iloc[:15,:]\n",
    "\n",
    "plt.pie(piedata[\"Gold\"], labels= piedata[\"Team/NOC\"], autopct='%1.1f%%', shadow=True,startangle=90)"
   ]
  },
  {
   "cell_type": "code",
   "execution_count": 82,
   "id": "07c3faa1-ef24-4531-82b5-5944f0117ba9",
   "metadata": {},
   "outputs": [],
   "source": [
    "### Correlation"
   ]
  },
  {
   "cell_type": "code",
   "execution_count": 83,
   "id": "a82f8494-f129-4490-862b-56ed03cd0585",
   "metadata": {},
   "outputs": [
    {
     "data": {
      "text/html": [
       "<div>\n",
       "<style scoped>\n",
       "    .dataframe tbody tr th:only-of-type {\n",
       "        vertical-align: middle;\n",
       "    }\n",
       "\n",
       "    .dataframe tbody tr th {\n",
       "        vertical-align: top;\n",
       "    }\n",
       "\n",
       "    .dataframe thead th {\n",
       "        text-align: right;\n",
       "    }\n",
       "</style>\n",
       "<table border=\"1\" class=\"dataframe\">\n",
       "  <thead>\n",
       "    <tr style=\"text-align: right;\">\n",
       "      <th></th>\n",
       "      <th>Rank</th>\n",
       "      <th>Gold</th>\n",
       "      <th>Silver</th>\n",
       "      <th>Bronze</th>\n",
       "      <th>Total</th>\n",
       "      <th>Rank by Total</th>\n",
       "    </tr>\n",
       "  </thead>\n",
       "  <tbody>\n",
       "    <tr>\n",
       "      <th>Rank</th>\n",
       "      <td>1.000000</td>\n",
       "      <td>-0.655477</td>\n",
       "      <td>-0.597835</td>\n",
       "      <td>-0.637166</td>\n",
       "      <td>-0.655877</td>\n",
       "      <td>0.873539</td>\n",
       "    </tr>\n",
       "    <tr>\n",
       "      <th>Gold</th>\n",
       "      <td>-0.655477</td>\n",
       "      <td>1.000000</td>\n",
       "      <td>0.929046</td>\n",
       "      <td>0.862425</td>\n",
       "      <td>0.970840</td>\n",
       "      <td>-0.626012</td>\n",
       "    </tr>\n",
       "    <tr>\n",
       "      <th>Silver</th>\n",
       "      <td>-0.597835</td>\n",
       "      <td>0.929046</td>\n",
       "      <td>1.000000</td>\n",
       "      <td>0.862646</td>\n",
       "      <td>0.969439</td>\n",
       "      <td>-0.632831</td>\n",
       "    </tr>\n",
       "    <tr>\n",
       "      <th>Bronze</th>\n",
       "      <td>-0.637166</td>\n",
       "      <td>0.862425</td>\n",
       "      <td>0.862646</td>\n",
       "      <td>1.000000</td>\n",
       "      <td>0.941941</td>\n",
       "      <td>-0.745573</td>\n",
       "    </tr>\n",
       "    <tr>\n",
       "      <th>Total</th>\n",
       "      <td>-0.655877</td>\n",
       "      <td>0.970840</td>\n",
       "      <td>0.969439</td>\n",
       "      <td>0.941941</td>\n",
       "      <td>1.000000</td>\n",
       "      <td>-0.692450</td>\n",
       "    </tr>\n",
       "    <tr>\n",
       "      <th>Rank by Total</th>\n",
       "      <td>0.873539</td>\n",
       "      <td>-0.626012</td>\n",
       "      <td>-0.632831</td>\n",
       "      <td>-0.745573</td>\n",
       "      <td>-0.692450</td>\n",
       "      <td>1.000000</td>\n",
       "    </tr>\n",
       "  </tbody>\n",
       "</table>\n",
       "</div>"
      ],
      "text/plain": [
       "                   Rank      Gold    Silver    Bronze     Total  Rank by Total\n",
       "Rank           1.000000 -0.655477 -0.597835 -0.637166 -0.655877       0.873539\n",
       "Gold          -0.655477  1.000000  0.929046  0.862425  0.970840      -0.626012\n",
       "Silver        -0.597835  0.929046  1.000000  0.862646  0.969439      -0.632831\n",
       "Bronze        -0.637166  0.862425  0.862646  1.000000  0.941941      -0.745573\n",
       "Total         -0.655877  0.970840  0.969439  0.941941  1.000000      -0.692450\n",
       "Rank by Total  0.873539 -0.626012 -0.632831 -0.745573 -0.692450       1.000000"
      ]
     },
     "execution_count": 83,
     "metadata": {},
     "output_type": "execute_result"
    }
   ],
   "source": [
    "mc.corr()"
   ]
  },
  {
   "cell_type": "code",
   "execution_count": 84,
   "id": "a81c4a21-5d75-4f28-81b6-2c22ae32473f",
   "metadata": {},
   "outputs": [
    {
     "data": {
      "text/plain": [
       "<AxesSubplot:xlabel='Gold', ylabel='Silver'>"
      ]
     },
     "execution_count": 84,
     "metadata": {},
     "output_type": "execute_result"
    },
    {
     "data": {
      "image/png": "[encoded data removed]",
      "text/plain": [
       "<Figure size 432x288 with 1 Axes>"
      ]
     },
     "metadata": {
      "needs_background": "light"
     },
     "output_type": "display_data"
    }
   ],
   "source": [
    "mc.plot.scatter(x=\"Gold\", y=\"Silver\")"
   ]
  },
  {
   "cell_type": "code",
   "execution_count": null,
   "id": "1806aad0-dbc7-4dfa-90e5-54ff3826fb41",
   "metadata": {},
   "outputs": [],
   "source": []
  }
 ],
 "metadata": {
  "kernelspec": {
   "display_name": "Python 3",
   "language": "python",
   "name": "python3"
  },
  "language_info": {
   "codemirror_mode": {
    "name": "ipython",
    "version": 3
   },
   "file_extension": ".py",
   "mimetype": "text/x-python",
   "name": "python",
   "nbconvert_exporter": "python",
   "pygments_lexer": "ipython3",
   "version": "3.8.5"
  }
 },
 "nbformat": 4,
 "nbformat_minor": 5
}
