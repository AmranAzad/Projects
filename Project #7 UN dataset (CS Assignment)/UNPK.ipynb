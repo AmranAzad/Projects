{
 "cells": [
  {
   "cell_type": "markdown",
   "id": "cdc17bf8-c009-4f46-aa2e-89dfea0f537e",
   "metadata": {},
   "source": [
    "### Step 1: Loading the dataset and reading the csv"
   ]
  },
  {
   "cell_type": "code",
   "execution_count": 1,
   "id": "c984dcdb-819c-43f5-b267-26e6e1457b54",
   "metadata": {},
   "outputs": [],
   "source": [
    "import pandas as pd\n",
    "import missingno as msno\n",
    "import plotly.express as px\n",
    "import matplotlib.pyplot as plt\n",
    "from datetime import datetime\n",
    "from datetime import date\n",
    "import numpy as np"
   ]
  },
  {
   "cell_type": "code",
   "execution_count": 2,
   "id": "35e4b5c4-d525-4808-aafe-d7e96eb8c4a6",
   "metadata": {},
   "outputs": [],
   "source": [
    "df = pd.read_csv('odp_contributionsbygender.csv')"
   ]
  },
  {
   "cell_type": "code",
   "execution_count": 3,
   "id": "1536cff6-1a6b-46aa-99c7-d4f9394427fb",
   "metadata": {},
   "outputs": [
    {
     "data": {
      "text/html": [
       "<div>\n",
       "<style scoped>\n",
       "    .dataframe tbody tr th:only-of-type {\n",
       "        vertical-align: middle;\n",
       "    }\n",
       "\n",
       "    .dataframe tbody tr th {\n",
       "        vertical-align: top;\n",
       "    }\n",
       "\n",
       "    .dataframe thead th {\n",
       "        text-align: right;\n",
       "    }\n",
       "</style>\n",
       "<table border=\"1\" class=\"dataframe\">\n",
       "  <thead>\n",
       "    <tr style=\"text-align: right;\">\n",
       "      <th></th>\n",
       "      <th>Contribution_ID</th>\n",
       "      <th>ISOCode3</th>\n",
       "      <th>M49_Code</th>\n",
       "      <th>Contributing_Country</th>\n",
       "      <th>Mission_Acronym</th>\n",
       "      <th>Personnel_Type</th>\n",
       "      <th>Female_Personnel</th>\n",
       "      <th>Male_Personnel</th>\n",
       "      <th>Last_Reporting_Date</th>\n",
       "    </tr>\n",
       "  </thead>\n",
       "  <tbody>\n",
       "    <tr>\n",
       "      <th>0</th>\n",
       "      <td>427903</td>\n",
       "      <td>DZA</td>\n",
       "      <td>12.0</td>\n",
       "      <td>Algeria</td>\n",
       "      <td>MONUSCO</td>\n",
       "      <td>Experts on Mission</td>\n",
       "      <td>0</td>\n",
       "      <td>2</td>\n",
       "      <td>31/07/2020</td>\n",
       "    </tr>\n",
       "    <tr>\n",
       "      <th>1</th>\n",
       "      <td>427904</td>\n",
       "      <td>ARG</td>\n",
       "      <td>32.0</td>\n",
       "      <td>Argentina</td>\n",
       "      <td>MINURSO</td>\n",
       "      <td>Experts on Mission</td>\n",
       "      <td>0</td>\n",
       "      <td>2</td>\n",
       "      <td>31/07/2020</td>\n",
       "    </tr>\n",
       "    <tr>\n",
       "      <th>2</th>\n",
       "      <td>427905</td>\n",
       "      <td>ARG</td>\n",
       "      <td>32.0</td>\n",
       "      <td>Argentina</td>\n",
       "      <td>UNFICYP</td>\n",
       "      <td>Troops</td>\n",
       "      <td>15</td>\n",
       "      <td>219</td>\n",
       "      <td>31/07/2020</td>\n",
       "    </tr>\n",
       "    <tr>\n",
       "      <th>3</th>\n",
       "      <td>427906</td>\n",
       "      <td>ARG</td>\n",
       "      <td>32.0</td>\n",
       "      <td>Argentina</td>\n",
       "      <td>UNFICYP</td>\n",
       "      <td>Staff Officer</td>\n",
       "      <td>3</td>\n",
       "      <td>6</td>\n",
       "      <td>31/07/2020</td>\n",
       "    </tr>\n",
       "    <tr>\n",
       "      <th>4</th>\n",
       "      <td>427907</td>\n",
       "      <td>ARG</td>\n",
       "      <td>32.0</td>\n",
       "      <td>Argentina</td>\n",
       "      <td>UNMISS</td>\n",
       "      <td>Individual Police</td>\n",
       "      <td>1</td>\n",
       "      <td>5</td>\n",
       "      <td>31/07/2020</td>\n",
       "    </tr>\n",
       "  </tbody>\n",
       "</table>\n",
       "</div>"
      ],
      "text/plain": [
       "   Contribution_ID ISOCode3  M49_Code Contributing_Country Mission_Acronym  \\\n",
       "0           427903      DZA      12.0              Algeria         MONUSCO   \n",
       "1           427904      ARG      32.0            Argentina         MINURSO   \n",
       "2           427905      ARG      32.0            Argentina         UNFICYP   \n",
       "3           427906      ARG      32.0            Argentina         UNFICYP   \n",
       "4           427907      ARG      32.0            Argentina          UNMISS   \n",
       "\n",
       "       Personnel_Type  Female_Personnel  Male_Personnel Last_Reporting_Date  \n",
       "0  Experts on Mission                 0               2          31/07/2020  \n",
       "1  Experts on Mission                 0               2          31/07/2020  \n",
       "2              Troops                15             219          31/07/2020  \n",
       "3       Staff Officer                 3               6          31/07/2020  \n",
       "4   Individual Police                 1               5          31/07/2020  "
      ]
     },
     "execution_count": 3,
     "metadata": {},
     "output_type": "execute_result"
    }
   ],
   "source": [
    "df.head()"
   ]
  },
  {
   "cell_type": "code",
   "execution_count": 4,
   "id": "c5eb5dae-feda-4037-86a4-777ba1364a5a",
   "metadata": {},
   "outputs": [
    {
     "name": "stdout",
     "output_type": "stream",
     "text": [
      "<class 'pandas.core.frame.DataFrame'>\n",
      "RangeIndex: 147631 entries, 0 to 147630\n",
      "Data columns (total 9 columns):\n",
      " #   Column                Non-Null Count   Dtype  \n",
      "---  ------                --------------   -----  \n",
      " 0   Contribution_ID       147631 non-null  int64  \n",
      " 1   ISOCode3              147627 non-null  object \n",
      " 2   M49_Code              147626 non-null  float64\n",
      " 3   Contributing_Country  147626 non-null  object \n",
      " 4   Mission_Acronym       147631 non-null  object \n",
      " 5   Personnel_Type        147631 non-null  object \n",
      " 6   Female_Personnel      147631 non-null  int64  \n",
      " 7   Male_Personnel        147631 non-null  int64  \n",
      " 8   Last_Reporting_Date   147631 non-null  object \n",
      "dtypes: float64(1), int64(3), object(5)\n",
      "memory usage: 10.1+ MB\n"
     ]
    }
   ],
   "source": [
    "df.info()"
   ]
  },
  {
   "cell_type": "markdown",
   "id": "2896cd62-9bdb-46de-8846-90e5ee26eacf",
   "metadata": {},
   "source": [
    "### Step 2: Removing NA values"
   ]
  },
  {
   "cell_type": "code",
   "execution_count": 5,
   "id": "a835a7f4-4f0f-462f-93d7-987543c2fe42",
   "metadata": {},
   "outputs": [
    {
     "data": {
      "text/plain": [
       "Contribution_ID         False\n",
       "ISOCode3                 True\n",
       "M49_Code                 True\n",
       "Contributing_Country     True\n",
       "Mission_Acronym         False\n",
       "Personnel_Type          False\n",
       "Female_Personnel        False\n",
       "Male_Personnel          False\n",
       "Last_Reporting_Date     False\n",
       "dtype: bool"
      ]
     },
     "execution_count": 5,
     "metadata": {},
     "output_type": "execute_result"
    }
   ],
   "source": [
    "df.isnull().any()"
   ]
  },
  {
   "cell_type": "code",
   "execution_count": 6,
   "id": "33aec22d-a1ef-43b3-8571-584b1452c542",
   "metadata": {},
   "outputs": [
    {
     "data": {
      "text/plain": [
       "<AxesSubplot:>"
      ]
     },
     "execution_count": 6,
     "metadata": {},
     "output_type": "execute_result"
    },
    {
     "data": {
      "image/png": "[encoded data removed]",
      "text/plain": [
       "<Figure size 1800x720 with 3 Axes>"
      ]
     },
     "metadata": {
      "needs_background": "light"
     },
     "output_type": "display_data"
    }
   ],
   "source": [
    "msno.bar(df)"
   ]
  },
  {
   "cell_type": "code",
   "execution_count": 7,
   "id": "ab7e564a-11b5-470f-966e-d91c90719af9",
   "metadata": {},
   "outputs": [
    {
     "data": {
      "text/plain": [
       "Contribution_ID         False\n",
       "ISOCode3                 True\n",
       "M49_Code                 True\n",
       "Contributing_Country     True\n",
       "Mission_Acronym         False\n",
       "Personnel_Type          False\n",
       "Female_Personnel        False\n",
       "Male_Personnel          False\n",
       "Last_Reporting_Date     False\n",
       "dtype: bool"
      ]
     },
     "execution_count": 7,
     "metadata": {},
     "output_type": "execute_result"
    }
   ],
   "source": [
    "df.isnull().any()"
   ]
  },
  {
   "cell_type": "code",
   "execution_count": 8,
   "id": "50469be8-2189-438b-a18f-b1f3d8bd337e",
   "metadata": {},
   "outputs": [],
   "source": [
    "df=df.dropna()"
   ]
  },
  {
   "cell_type": "code",
   "execution_count": 9,
   "id": "d5b8653d-5216-44f8-8ac7-aca1e9c96af0",
   "metadata": {},
   "outputs": [
    {
     "data": {
      "text/plain": [
       "Contribution_ID         False\n",
       "ISOCode3                False\n",
       "M49_Code                False\n",
       "Contributing_Country    False\n",
       "Mission_Acronym         False\n",
       "Personnel_Type          False\n",
       "Female_Personnel        False\n",
       "Male_Personnel          False\n",
       "Last_Reporting_Date     False\n",
       "dtype: bool"
      ]
     },
     "execution_count": 9,
     "metadata": {},
     "output_type": "execute_result"
    }
   ],
   "source": [
    "df.isnull().any()"
   ]
  },
  {
   "cell_type": "markdown",
   "id": "e0969997-f329-4f6b-a9e1-a4982d44d52f",
   "metadata": {},
   "source": [
    "### Step 3: Date object to Datetime fix\n"
   ]
  },
  {
   "cell_type": "code",
   "execution_count": 10,
   "id": "2f61d54a-317e-4e16-b7d0-57c9fba2cc91",
   "metadata": {},
   "outputs": [],
   "source": [
    "df['Date']= pd.to_datetime(df['Last_Reporting_Date'])"
   ]
  },
  {
   "cell_type": "code",
   "execution_count": 11,
   "id": "c3536343-065c-485e-b719-bacfcafdcd69",
   "metadata": {},
   "outputs": [],
   "source": [
    "df=df.drop(columns=['Last_Reporting_Date'])"
   ]
  },
  {
   "cell_type": "code",
   "execution_count": 12,
   "id": "fb9cbc48-1534-4a4e-81d1-20736b804b17",
   "metadata": {},
   "outputs": [
    {
     "name": "stdout",
     "output_type": "stream",
     "text": [
      "<class 'pandas.core.frame.DataFrame'>\n",
      "Int64Index: 147626 entries, 0 to 147630\n",
      "Data columns (total 9 columns):\n",
      " #   Column                Non-Null Count   Dtype         \n",
      "---  ------                --------------   -----         \n",
      " 0   Contribution_ID       147626 non-null  int64         \n",
      " 1   ISOCode3              147626 non-null  object        \n",
      " 2   M49_Code              147626 non-null  float64       \n",
      " 3   Contributing_Country  147626 non-null  object        \n",
      " 4   Mission_Acronym       147626 non-null  object        \n",
      " 5   Personnel_Type        147626 non-null  object        \n",
      " 6   Female_Personnel      147626 non-null  int64         \n",
      " 7   Male_Personnel        147626 non-null  int64         \n",
      " 8   Date                  147626 non-null  datetime64[ns]\n",
      "dtypes: datetime64[ns](1), float64(1), int64(3), object(4)\n",
      "memory usage: 11.3+ MB\n"
     ]
    }
   ],
   "source": [
    "df.info()"
   ]
  },
  {
   "cell_type": "markdown",
   "id": "bb8c1729-9ecf-4253-ac40-9f231306508e",
   "metadata": {},
   "source": [
    "### Step 4: checking the percentage of females in July 2020 in ploice units"
   ]
  },
  {
   "cell_type": "code",
   "execution_count": 13,
   "id": "2d1ec416-7678-41d2-b51c-2928c129d8cb",
   "metadata": {},
   "outputs": [
    {
     "name": "stdout",
     "output_type": "stream",
     "text": [
      "     Contribution_ID ISOCode3  M49_Code Contributing_Country Mission_Acronym  \\\n",
      "0             427903      DZA      12.0              Algeria         MONUSCO   \n",
      "1             427904      ARG      32.0            Argentina         MINURSO   \n",
      "2             427905      ARG      32.0            Argentina         UNFICYP   \n",
      "3             427906      ARG      32.0            Argentina         UNFICYP   \n",
      "4             427907      ARG      32.0            Argentina          UNMISS   \n",
      "..               ...      ...       ...                  ...             ...   \n",
      "978           428881      ZWE     716.0             Zimbabwe          UNISFA   \n",
      "979           428882      ZWE     716.0             Zimbabwe          UNMISS   \n",
      "980           428883      ZWE     716.0             Zimbabwe          UNMISS   \n",
      "981           428884      ZWE     716.0             Zimbabwe          UNMISS   \n",
      "982           428885      ZWE     716.0             Zimbabwe           UNSOM   \n",
      "\n",
      "         Personnel_Type  Female_Personnel  Male_Personnel       Date  \n",
      "0    Experts on Mission                 0               2 2020-07-31  \n",
      "1    Experts on Mission                 0               2 2020-07-31  \n",
      "2                Troops                15             219 2020-07-31  \n",
      "3         Staff Officer                 3               6 2020-07-31  \n",
      "4     Individual Police                 1               5 2020-07-31  \n",
      "..                  ...               ...             ...        ...  \n",
      "978       Staff Officer                 3               0 2020-07-31  \n",
      "979  Experts on Mission                 3               2 2020-07-31  \n",
      "980   Individual Police                11              19 2020-07-31  \n",
      "981       Staff Officer                 1               1 2020-07-31  \n",
      "982   Individual Police                 1               0 2020-07-31  \n",
      "\n",
      "[983 rows x 9 columns]\n"
     ]
    }
   ],
   "source": [
    "start_date = \"2020-7-1\"\n",
    "end_date = \"2020-7-31\" \n",
    "after_start_date = df[\"Date\"] >= start_date\n",
    "before_end_date = df[\"Date\"] <= end_date\n",
    "between_two_dates = after_start_date & before_end_date\n",
    "july_df = df.loc[between_two_dates]\n",
    "print(july_df)"
   ]
  },
  {
   "cell_type": "code",
   "execution_count": 14,
   "id": "993c1ac8-f33c-4e3f-a8a3-e7fdb518e3e8",
   "metadata": {},
   "outputs": [],
   "source": [
    "df_groupby_personnel = july_df.groupby('Personnel_Type').sum()"
   ]
  },
  {
   "cell_type": "code",
   "execution_count": 15,
   "id": "5eb10924-e40b-4985-b9bd-9463a5656f11",
   "metadata": {},
   "outputs": [
    {
     "data": {
      "text/html": [
       "<div>\n",
       "<style scoped>\n",
       "    .dataframe tbody tr th:only-of-type {\n",
       "        vertical-align: middle;\n",
       "    }\n",
       "\n",
       "    .dataframe tbody tr th {\n",
       "        vertical-align: top;\n",
       "    }\n",
       "\n",
       "    .dataframe thead th {\n",
       "        text-align: right;\n",
       "    }\n",
       "</style>\n",
       "<table border=\"1\" class=\"dataframe\">\n",
       "  <thead>\n",
       "    <tr style=\"text-align: right;\">\n",
       "      <th></th>\n",
       "      <th>Contribution_ID</th>\n",
       "      <th>M49_Code</th>\n",
       "      <th>Female_Personnel</th>\n",
       "      <th>Male_Personnel</th>\n",
       "    </tr>\n",
       "    <tr>\n",
       "      <th>Personnel_Type</th>\n",
       "      <th></th>\n",
       "      <th></th>\n",
       "      <th></th>\n",
       "      <th></th>\n",
       "    </tr>\n",
       "  </thead>\n",
       "  <tbody>\n",
       "    <tr>\n",
       "      <th>Experts on Mission</th>\n",
       "      <td>128517527</td>\n",
       "      <td>134904.0</td>\n",
       "      <td>233</td>\n",
       "      <td>924</td>\n",
       "    </tr>\n",
       "    <tr>\n",
       "      <th>Formed Police Units</th>\n",
       "      <td>13278162</td>\n",
       "      <td>15908.0</td>\n",
       "      <td>741</td>\n",
       "      <td>6039</td>\n",
       "    </tr>\n",
       "    <tr>\n",
       "      <th>Individual Police</th>\n",
       "      <td>88684018</td>\n",
       "      <td>104453.0</td>\n",
       "      <td>591</td>\n",
       "      <td>1497</td>\n",
       "    </tr>\n",
       "    <tr>\n",
       "      <th>Staff Officer</th>\n",
       "      <td>130658856</td>\n",
       "      <td>135550.0</td>\n",
       "      <td>334</td>\n",
       "      <td>1634</td>\n",
       "    </tr>\n",
       "    <tr>\n",
       "      <th>Troops</th>\n",
       "      <td>59972739</td>\n",
       "      <td>59628.0</td>\n",
       "      <td>3445</td>\n",
       "      <td>67040</td>\n",
       "    </tr>\n",
       "  </tbody>\n",
       "</table>\n",
       "</div>"
      ],
      "text/plain": [
       "                     Contribution_ID  M49_Code  Female_Personnel  \\\n",
       "Personnel_Type                                                     \n",
       "Experts on Mission         128517527  134904.0               233   \n",
       "Formed Police Units         13278162   15908.0               741   \n",
       "Individual Police           88684018  104453.0               591   \n",
       "Staff Officer              130658856  135550.0               334   \n",
       "Troops                      59972739   59628.0              3445   \n",
       "\n",
       "                     Male_Personnel  \n",
       "Personnel_Type                       \n",
       "Experts on Mission              924  \n",
       "Formed Police Units            6039  \n",
       "Individual Police              1497  \n",
       "Staff Officer                  1634  \n",
       "Troops                        67040  "
      ]
     },
     "execution_count": 15,
     "metadata": {},
     "output_type": "execute_result"
    }
   ],
   "source": [
    "df_groupby_personnel"
   ]
  },
  {
   "cell_type": "code",
   "execution_count": 16,
   "id": "2c4bb123-3e24-45b4-bce1-402b276e61d6",
   "metadata": {},
   "outputs": [
    {
     "name": "stdout",
     "output_type": "stream",
     "text": [
      "10.929203539823009%\n"
     ]
    }
   ],
   "source": [
    "pert_females_in_formed_police_units = 741/(741+6039)*100\n",
    "print(str(pert_females_in_formed_police_units)+'%')"
   ]
  },
  {
   "cell_type": "markdown",
   "id": "984f670c-cec1-4d9e-9df3-1ce1c577944d",
   "metadata": {},
   "source": [
    "### In july 2020 10.9 or roughly 11% of the personnels in Formed Police Units were females. This is much less than the expected infograph of 2019."
   ]
  },
  {
   "cell_type": "markdown",
   "id": "a6476356-debe-406f-9232-f7ea8178130f",
   "metadata": {},
   "source": [
    "### Step 5: Graphing the previous step"
   ]
  },
  {
   "cell_type": "code",
   "execution_count": 17,
   "id": "f10b9f57-8b57-42f3-b091-494465c7a2ba",
   "metadata": {},
   "outputs": [
    {
     "ename": "NameError",
     "evalue": "name 'pivot' is not defined",
     "output_type": "error",
     "traceback": [
      "\u001b[1;31m---------------------------------------------------------------------------\u001b[0m",
      "\u001b[1;31mNameError\u001b[0m                                 Traceback (most recent call last)",
      "\u001b[1;32m<ipython-input-17-63f3a0a5df2b>\u001b[0m in \u001b[0;36m<module>\u001b[1;34m\u001b[0m\n\u001b[1;32m----> 1\u001b[1;33m \u001b[0mpivot\u001b[0m\u001b[1;33m\u001b[0m\u001b[1;33m\u001b[0m\u001b[0m\n\u001b[0m",
      "\u001b[1;31mNameError\u001b[0m: name 'pivot' is not defined"
     ]
    }
   ],
   "source": [
    "pivot"
   ]
  },
  {
   "cell_type": "code",
   "execution_count": 18,
   "id": "6f06d125-abbc-4524-aa14-e08674bea70c",
   "metadata": {},
   "outputs": [
    {
     "name": "stdout",
     "output_type": "stream",
     "text": [
      "       Contribution_ID ISOCode3  M49_Code              Contributing_Country  \\\n",
      "0               427903      DZA      12.0                           Algeria   \n",
      "1               427904      ARG      32.0                         Argentina   \n",
      "2               427905      ARG      32.0                         Argentina   \n",
      "3               427906      ARG      32.0                         Argentina   \n",
      "4               427907      ARG      32.0                         Argentina   \n",
      "...                ...      ...       ...                               ...   \n",
      "41334            75629      BOL      68.0  Bolivia (Plurinational State of)   \n",
      "41335            75630      BIH      70.0            Bosnia and Herzegovina   \n",
      "41336            75631      BIH      70.0            Bosnia and Herzegovina   \n",
      "41337            75632      BIH      70.0            Bosnia and Herzegovina   \n",
      "41338            75633      BIH      70.0            Bosnia and Herzegovina   \n",
      "\n",
      "      Mission_Acronym      Personnel_Type  Female_Personnel  Male_Personnel  \\\n",
      "0             MONUSCO  Experts on Mission                 0               2   \n",
      "1             MINURSO  Experts on Mission                 0               2   \n",
      "2             UNFICYP              Troops                15             219   \n",
      "3             UNFICYP       Staff Officer                 3               6   \n",
      "4              UNMISS   Individual Police                 1               5   \n",
      "...               ...                 ...               ...             ...   \n",
      "41334          UNMISS              Troops                 0               2   \n",
      "41335         MONUSCO  Experts on Mission                 0               5   \n",
      "41336           UNAMA   Individual Police                 1               0   \n",
      "41337         UNFICYP   Individual Police                 3               5   \n",
      "41338           UNMIL   Individual Police                 0               1   \n",
      "\n",
      "            Date  \n",
      "0     2020-07-31  \n",
      "1     2020-07-31  \n",
      "2     2020-07-31  \n",
      "3     2020-07-31  \n",
      "4     2020-07-31  \n",
      "...          ...  \n",
      "41334 2017-01-31  \n",
      "41335 2017-01-31  \n",
      "41336 2017-01-31  \n",
      "41337 2017-01-31  \n",
      "41338 2017-01-31  \n",
      "\n",
      "[41338 rows x 9 columns]\n"
     ]
    }
   ],
   "source": [
    "start_date = \"2017-1-1\"\n",
    "end_date = \"2020-12-31\" \n",
    "after_start_date = df[\"Date\"] >= start_date\n",
    "before_end_date = df[\"Date\"] <= end_date\n",
    "between_two_dates = after_start_date & before_end_date\n",
    "filtered_dates = df.loc[between_two_dates]\n",
    "print(filtered_dates)"
   ]
  },
  {
   "cell_type": "code",
   "execution_count": 19,
   "id": "595196dd-a044-4121-9b3f-d019888f90c1",
   "metadata": {},
   "outputs": [],
   "source": [
    "pv= filtered_dates[filtered_dates.Personnel_Type == 'Formed Police Units'].pivot_table(index=filtered_dates.Date.dt.year, aggfunc='sum')\n"
   ]
  },
  {
   "cell_type": "code",
   "execution_count": 20,
   "id": "c12b4c12-8236-4869-9664-d5334172b55f",
   "metadata": {},
   "outputs": [
    {
     "data": {
      "text/html": [
       "<div>\n",
       "<style scoped>\n",
       "    .dataframe tbody tr th:only-of-type {\n",
       "        vertical-align: middle;\n",
       "    }\n",
       "\n",
       "    .dataframe tbody tr th {\n",
       "        vertical-align: top;\n",
       "    }\n",
       "\n",
       "    .dataframe thead th {\n",
       "        text-align: right;\n",
       "    }\n",
       "</style>\n",
       "<table border=\"1\" class=\"dataframe\">\n",
       "  <thead>\n",
       "    <tr style=\"text-align: right;\">\n",
       "      <th></th>\n",
       "      <th>Contribution_ID</th>\n",
       "      <th>Female_Personnel</th>\n",
       "      <th>M49_Code</th>\n",
       "      <th>Male_Personnel</th>\n",
       "    </tr>\n",
       "    <tr>\n",
       "      <th>Date</th>\n",
       "      <th></th>\n",
       "      <th></th>\n",
       "      <th></th>\n",
       "      <th></th>\n",
       "    </tr>\n",
       "  </thead>\n",
       "  <tbody>\n",
       "    <tr>\n",
       "      <th>2017</th>\n",
       "      <td>31657281</td>\n",
       "      <td>5294</td>\n",
       "      <td>194404.0</td>\n",
       "      <td>76690</td>\n",
       "    </tr>\n",
       "    <tr>\n",
       "      <th>2018</th>\n",
       "      <td>89159639</td>\n",
       "      <td>7103</td>\n",
       "      <td>224764.0</td>\n",
       "      <td>85698</td>\n",
       "    </tr>\n",
       "    <tr>\n",
       "      <th>2019</th>\n",
       "      <td>142501774</td>\n",
       "      <td>8944</td>\n",
       "      <td>213358.0</td>\n",
       "      <td>77204</td>\n",
       "    </tr>\n",
       "    <tr>\n",
       "      <th>2020</th>\n",
       "      <td>92259109</td>\n",
       "      <td>5161</td>\n",
       "      <td>111356.0</td>\n",
       "      <td>42148</td>\n",
       "    </tr>\n",
       "  </tbody>\n",
       "</table>\n",
       "</div>"
      ],
      "text/plain": [
       "      Contribution_ID  Female_Personnel  M49_Code  Male_Personnel\n",
       "Date                                                             \n",
       "2017         31657281              5294  194404.0           76690\n",
       "2018         89159639              7103  224764.0           85698\n",
       "2019        142501774              8944  213358.0           77204\n",
       "2020         92259109              5161  111356.0           42148"
      ]
     },
     "execution_count": 20,
     "metadata": {},
     "output_type": "execute_result"
    }
   ],
   "source": [
    "pv\n"
   ]
  },
  {
   "cell_type": "code",
   "execution_count": 21,
   "id": "fe2431f7-f0de-4f77-92ec-879a07333094",
   "metadata": {},
   "outputs": [],
   "source": [
    "pv['percent'] = pv.Female_Personnel/(pv.Female_Personnel+pv.Male_Personnel)*100"
   ]
  },
  {
   "cell_type": "code",
   "execution_count": 22,
   "id": "b534784b-755d-47cb-8209-ddda29479461",
   "metadata": {},
   "outputs": [
    {
     "data": {
      "text/html": [
       "<div>\n",
       "<style scoped>\n",
       "    .dataframe tbody tr th:only-of-type {\n",
       "        vertical-align: middle;\n",
       "    }\n",
       "\n",
       "    .dataframe tbody tr th {\n",
       "        vertical-align: top;\n",
       "    }\n",
       "\n",
       "    .dataframe thead th {\n",
       "        text-align: right;\n",
       "    }\n",
       "</style>\n",
       "<table border=\"1\" class=\"dataframe\">\n",
       "  <thead>\n",
       "    <tr style=\"text-align: right;\">\n",
       "      <th></th>\n",
       "      <th>Contribution_ID</th>\n",
       "      <th>Female_Personnel</th>\n",
       "      <th>M49_Code</th>\n",
       "      <th>Male_Personnel</th>\n",
       "      <th>percent</th>\n",
       "    </tr>\n",
       "    <tr>\n",
       "      <th>Date</th>\n",
       "      <th></th>\n",
       "      <th></th>\n",
       "      <th></th>\n",
       "      <th></th>\n",
       "      <th></th>\n",
       "    </tr>\n",
       "  </thead>\n",
       "  <tbody>\n",
       "    <tr>\n",
       "      <th>2017</th>\n",
       "      <td>31657281</td>\n",
       "      <td>5294</td>\n",
       "      <td>194404.0</td>\n",
       "      <td>76690</td>\n",
       "      <td>6.457358</td>\n",
       "    </tr>\n",
       "    <tr>\n",
       "      <th>2018</th>\n",
       "      <td>89159639</td>\n",
       "      <td>7103</td>\n",
       "      <td>224764.0</td>\n",
       "      <td>85698</td>\n",
       "      <td>7.654012</td>\n",
       "    </tr>\n",
       "    <tr>\n",
       "      <th>2019</th>\n",
       "      <td>142501774</td>\n",
       "      <td>8944</td>\n",
       "      <td>213358.0</td>\n",
       "      <td>77204</td>\n",
       "      <td>10.382133</td>\n",
       "    </tr>\n",
       "    <tr>\n",
       "      <th>2020</th>\n",
       "      <td>92259109</td>\n",
       "      <td>5161</td>\n",
       "      <td>111356.0</td>\n",
       "      <td>42148</td>\n",
       "      <td>10.909129</td>\n",
       "    </tr>\n",
       "  </tbody>\n",
       "</table>\n",
       "</div>"
      ],
      "text/plain": [
       "      Contribution_ID  Female_Personnel  M49_Code  Male_Personnel    percent\n",
       "Date                                                                        \n",
       "2017         31657281              5294  194404.0           76690   6.457358\n",
       "2018         89159639              7103  224764.0           85698   7.654012\n",
       "2019        142501774              8944  213358.0           77204  10.382133\n",
       "2020         92259109              5161  111356.0           42148  10.909129"
      ]
     },
     "execution_count": 22,
     "metadata": {},
     "output_type": "execute_result"
    }
   ],
   "source": [
    "pv"
   ]
  },
  {
   "cell_type": "code",
   "execution_count": 23,
   "id": "fbf2eb59-56a4-4cfc-a1b7-21179c015acd",
   "metadata": {},
   "outputs": [],
   "source": [
    "pv2 = pd.DataFrame(pv.to_records())"
   ]
  },
  {
   "cell_type": "code",
   "execution_count": 24,
   "id": "356bbba1-a638-4a73-b287-749285d293ef",
   "metadata": {},
   "outputs": [
    {
     "data": {
      "text/html": [
       "<div>\n",
       "<style scoped>\n",
       "    .dataframe tbody tr th:only-of-type {\n",
       "        vertical-align: middle;\n",
       "    }\n",
       "\n",
       "    .dataframe tbody tr th {\n",
       "        vertical-align: top;\n",
       "    }\n",
       "\n",
       "    .dataframe thead th {\n",
       "        text-align: right;\n",
       "    }\n",
       "</style>\n",
       "<table border=\"1\" class=\"dataframe\">\n",
       "  <thead>\n",
       "    <tr style=\"text-align: right;\">\n",
       "      <th></th>\n",
       "      <th>Date</th>\n",
       "      <th>Contribution_ID</th>\n",
       "      <th>Female_Personnel</th>\n",
       "      <th>M49_Code</th>\n",
       "      <th>Male_Personnel</th>\n",
       "      <th>percent</th>\n",
       "    </tr>\n",
       "  </thead>\n",
       "  <tbody>\n",
       "    <tr>\n",
       "      <th>0</th>\n",
       "      <td>2017</td>\n",
       "      <td>31657281</td>\n",
       "      <td>5294</td>\n",
       "      <td>194404.0</td>\n",
       "      <td>76690</td>\n",
       "      <td>6.457358</td>\n",
       "    </tr>\n",
       "    <tr>\n",
       "      <th>1</th>\n",
       "      <td>2018</td>\n",
       "      <td>89159639</td>\n",
       "      <td>7103</td>\n",
       "      <td>224764.0</td>\n",
       "      <td>85698</td>\n",
       "      <td>7.654012</td>\n",
       "    </tr>\n",
       "    <tr>\n",
       "      <th>2</th>\n",
       "      <td>2019</td>\n",
       "      <td>142501774</td>\n",
       "      <td>8944</td>\n",
       "      <td>213358.0</td>\n",
       "      <td>77204</td>\n",
       "      <td>10.382133</td>\n",
       "    </tr>\n",
       "    <tr>\n",
       "      <th>3</th>\n",
       "      <td>2020</td>\n",
       "      <td>92259109</td>\n",
       "      <td>5161</td>\n",
       "      <td>111356.0</td>\n",
       "      <td>42148</td>\n",
       "      <td>10.909129</td>\n",
       "    </tr>\n",
       "  </tbody>\n",
       "</table>\n",
       "</div>"
      ],
      "text/plain": [
       "   Date  Contribution_ID  Female_Personnel  M49_Code  Male_Personnel  \\\n",
       "0  2017         31657281              5294  194404.0           76690   \n",
       "1  2018         89159639              7103  224764.0           85698   \n",
       "2  2019        142501774              8944  213358.0           77204   \n",
       "3  2020         92259109              5161  111356.0           42148   \n",
       "\n",
       "     percent  \n",
       "0   6.457358  \n",
       "1   7.654012  \n",
       "2  10.382133  \n",
       "3  10.909129  "
      ]
     },
     "execution_count": 24,
     "metadata": {},
     "output_type": "execute_result"
    }
   ],
   "source": [
    "pv2"
   ]
  },
  {
   "cell_type": "code",
   "execution_count": 25,
   "id": "613da863-ca70-4e6e-9d53-e7c76ab2a1cf",
   "metadata": {},
   "outputs": [
    {
     "data": {
      "text/plain": [
       "<BarContainer object of 4 artists>"
      ]
     },
     "execution_count": 25,
     "metadata": {},
     "output_type": "execute_result"
    },
    {
     "data": {
      "image/png": "[encoded data removed]",
      "text/plain": [
       "<Figure size 432x288 with 1 Axes>"
      ]
     },
     "metadata": {
      "needs_background": "light"
     },
     "output_type": "display_data"
    }
   ],
   "source": [
    "plt.bar(pv2.Date, pv2.percent)"
   ]
  },
  {
   "cell_type": "markdown",
   "id": "f233b186-e07a-4c2d-8395-fd1c1e424c51",
   "metadata": {},
   "source": [
    "### Step 6: Building a function"
   ]
  },
  {
   "cell_type": "code",
   "execution_count": 26,
   "id": "f7de43ac-62ac-40eb-839c-74ef49166163",
   "metadata": {},
   "outputs": [],
   "source": [
    "df['Mission_Acronym']=df['Mission_Acronym'].str.rstrip()"
   ]
  },
  {
   "cell_type": "code",
   "execution_count": 27,
   "id": "11f362dd-e133-427b-97ea-70ac3460fea6",
   "metadata": {},
   "outputs": [
    {
     "data": {
      "text/plain": [
       "array(['DZA', 'ARG', 'ARM', 'AUS', 'AUT', 'AZE', 'BGD', 'BLR', 'BEL',\n",
       "       'BEN', 'BTN', 'BOL', 'BIH', 'BRA', 'BRN', 'BGR', 'BFA', 'BDI',\n",
       "       'KHM', 'CMR', 'CAN', 'TCD', 'CHL', 'CHN', 'COL', 'COG', 'CIV',\n",
       "       'HRV', 'CYP', 'CZE', 'DNK', 'DJI', 'DOM', 'ECU', 'EGY', 'SLV',\n",
       "       'EST', 'ETH', 'FJI', 'FIN', 'FRA', 'GAB', 'GMB', 'DEU', 'GHA',\n",
       "       'GRC', 'GTM', 'GIN', 'HND', 'HUN', 'IND', 'IDN', 'IRN', 'IRL',\n",
       "       'ITA', 'JPN', 'JOR', 'KAZ', 'KEN', 'KGZ', 'LVA', 'LBR', 'LTU',\n",
       "       'LUX', 'MDG', 'MWI', 'MYS', 'MLI', 'MLT', 'MRT', 'MEX', 'MDA',\n",
       "       'MNG', 'MNE', 'MAR', 'NAM', 'NPL', 'NLD', 'NZL', 'NER', 'NGA',\n",
       "       'MKD', 'NOR', 'PAK', 'PRY', 'PER', 'PHL', 'POL', 'PRT', 'KOR',\n",
       "       'ROU', 'RUS', 'RWA', 'WSM', 'SEN', 'SRB', 'SLE', 'SVK', 'SVN',\n",
       "       'ZAF', 'ESP', 'LKA', 'SWE', 'CHE', 'TJK', 'THA', 'TLS', 'TGO',\n",
       "       'TUN', 'TUR', 'UGA', 'UKR', 'GBR', 'TZA', 'USA', 'URY', 'VNM',\n",
       "       'ZMB', 'ZWE', 'ALB', 'SWZ', 'CUB', 'GNB', 'COD', 'LBY', 'YEM',\n",
       "       'QAT', 'CRI', 'MMR', 'SLB', 'CPV', 'PNG', 'CAF', 'GEO', 'JAM',\n",
       "       'MOZ', 'VUT', 'GRD', 'LSO', 'PLW', 'SGP', 'ISL', 'ISR', 'BWA',\n",
       "       'MUS', 'LBN'], dtype=object)"
      ]
     },
     "execution_count": 27,
     "metadata": {},
     "output_type": "execute_result"
    }
   ],
   "source": [
    "df.ISOCode3.unique()"
   ]
  },
  {
   "cell_type": "code",
   "execution_count": 28,
   "id": "17d16bdc-4232-4500-9844-3f58a5a3bf35",
   "metadata": {
    "tags": []
   },
   "outputs": [],
   "source": [
    "def fun(x):\n",
    "   # if x in df.ISOCode3.unique:\n",
    "        unique_missions = df[df.ISOCode3== x].Mission_Acronym.unique()\n",
    "        number_of_missions = len(df[df.ISOCode3== x].Mission_Acronym.unique())\n",
    "        print ('The unique missions the that country sent personnel to are: ', unique_missions)\n",
    "        print ('The number of uniques missions the that country sent personnel to are: ', number_of_missions)\n",
    "    #else:\n",
    "     #   print('ISOCode3 is not in the datanbase')\n",
    "    "
   ]
  },
  {
   "cell_type": "code",
   "execution_count": 29,
   "id": "c3a3dc4e-2987-4a76-b60f-35c401ee1035",
   "metadata": {},
   "outputs": [
    {
     "name": "stdout",
     "output_type": "stream",
     "text": [
      "['MONUSCO' 'MONUC' 'ONUB' 'UNMEE']\n",
      "4\n"
     ]
    }
   ],
   "source": [
    "x = 'DZA'\n",
    "#y = str(x)\n",
    "unique_missions = df[df.ISOCode3== x].Mission_Acronym.unique()\n",
    "number_of_missions = len(df[df.ISOCode3== x].Mission_Acronym.unique())\n",
    "print(unique_missions)\n",
    "print(number_of_missions)"
   ]
  },
  {
   "cell_type": "code",
   "execution_count": 30,
   "id": "e5d61e67-bdac-4afb-81ae-a77befffcce1",
   "metadata": {},
   "outputs": [
    {
     "name": "stdout",
     "output_type": "stream",
     "text": [
      "The unique missions the that country sent personnel to are:  ['MINURSO' 'MONUSCO' 'UNDOF' 'UNFICYP' 'UNIFIL' 'UNISFA' 'UNMISS' 'UNTSO'\n",
      " 'UNSOM' 'MINUJUSTH' 'MINUSTAH' 'UNMIL' 'UNAMA' 'UNOCI' 'UNAMI' 'UNMIT'\n",
      " 'UNMIS' 'MONUC' 'UNMIK' 'UNIOSIL' 'UNMEE' 'ONUB' 'UNOMIG' 'UNAMSIL'\n",
      " 'UNIKOM' 'UNMIBH']\n",
      "The number of uniques missions the that country sent personnel to are:  26\n"
     ]
    }
   ],
   "source": [
    "fun('IND')"
   ]
  },
  {
   "cell_type": "markdown",
   "id": "8f6301ab-5808-43f9-9a72-0ff48b52c23c",
   "metadata": {},
   "source": [
    "### Step 7: Statistical questions in the last cell"
   ]
  },
  {
   "cell_type": "code",
   "execution_count": 31,
   "id": "86dffc53-34f7-4a42-8816-894e1971b376",
   "metadata": {},
   "outputs": [],
   "source": [
    "minusma = df[df.Mission_Acronym == 'MINUSMA']"
   ]
  },
  {
   "cell_type": "code",
   "execution_count": 32,
   "id": "dbab7179-5a97-48d0-a689-5738d6b6d21b",
   "metadata": {},
   "outputs": [
    {
     "name": "stderr",
     "output_type": "stream",
     "text": [
      "<ipython-input-32-2349beaa011c>:1: SettingWithCopyWarning: \n",
      "A value is trying to be set on a copy of a slice from a DataFrame.\n",
      "Try using .loc[row_indexer,col_indexer] = value instead\n",
      "\n",
      "See the caveats in the documentation: https://pandas.pydata.org/pandas-docs/stable/user_guide/indexing.html#returning-a-view-versus-a-copy\n",
      "  minusma['total'] = minusma.Female_Personnel+minusma.Male_Personnel\n"
     ]
    }
   ],
   "source": [
    "minusma['total'] = minusma.Female_Personnel+minusma.Male_Personnel"
   ]
  },
  {
   "cell_type": "code",
   "execution_count": 33,
   "id": "62cbcd6f-7568-4c04-856d-6bb1a782526b",
   "metadata": {},
   "outputs": [],
   "source": [
    "minusma = minusma.groupby('Date').sum()"
   ]
  },
  {
   "cell_type": "code",
   "execution_count": 34,
   "id": "4b3f1ccb-d22a-433c-8512-8b5ecaafe265",
   "metadata": {},
   "outputs": [
    {
     "data": {
      "text/html": [
       "<div>\n",
       "<style scoped>\n",
       "    .dataframe tbody tr th:only-of-type {\n",
       "        vertical-align: middle;\n",
       "    }\n",
       "\n",
       "    .dataframe tbody tr th {\n",
       "        vertical-align: top;\n",
       "    }\n",
       "\n",
       "    .dataframe thead th {\n",
       "        text-align: right;\n",
       "    }\n",
       "</style>\n",
       "<table border=\"1\" class=\"dataframe\">\n",
       "  <thead>\n",
       "    <tr style=\"text-align: right;\">\n",
       "      <th></th>\n",
       "      <th>Contribution_ID</th>\n",
       "      <th>M49_Code</th>\n",
       "      <th>Female_Personnel</th>\n",
       "      <th>Male_Personnel</th>\n",
       "      <th>total</th>\n",
       "    </tr>\n",
       "    <tr>\n",
       "      <th>Date</th>\n",
       "      <th></th>\n",
       "      <th></th>\n",
       "      <th></th>\n",
       "      <th></th>\n",
       "      <th></th>\n",
       "    </tr>\n",
       "  </thead>\n",
       "  <tbody>\n",
       "    <tr>\n",
       "      <th>2013-07-31</th>\n",
       "      <td>1632093</td>\n",
       "      <td>20886.0</td>\n",
       "      <td>57</td>\n",
       "      <td>6237</td>\n",
       "      <td>6294</td>\n",
       "    </tr>\n",
       "    <tr>\n",
       "      <th>2013-08-31</th>\n",
       "      <td>1782510</td>\n",
       "      <td>20878.0</td>\n",
       "      <td>36</td>\n",
       "      <td>5974</td>\n",
       "      <td>6010</td>\n",
       "    </tr>\n",
       "    <tr>\n",
       "      <th>2013-09-30</th>\n",
       "      <td>1630384</td>\n",
       "      <td>20268.0</td>\n",
       "      <td>31</td>\n",
       "      <td>5974</td>\n",
       "      <td>6005</td>\n",
       "    </tr>\n",
       "    <tr>\n",
       "      <th>2013-10-31</th>\n",
       "      <td>1944083</td>\n",
       "      <td>23676.0</td>\n",
       "      <td>40</td>\n",
       "      <td>5832</td>\n",
       "      <td>5872</td>\n",
       "    </tr>\n",
       "    <tr>\n",
       "      <th>2013-11-30</th>\n",
       "      <td>2229969</td>\n",
       "      <td>26230.0</td>\n",
       "      <td>63</td>\n",
       "      <td>6284</td>\n",
       "      <td>6347</td>\n",
       "    </tr>\n",
       "    <tr>\n",
       "      <th>...</th>\n",
       "      <td>...</td>\n",
       "      <td>...</td>\n",
       "      <td>...</td>\n",
       "      <td>...</td>\n",
       "      <td>...</td>\n",
       "    </tr>\n",
       "    <tr>\n",
       "      <th>2020-03-31</th>\n",
       "      <td>61525844</td>\n",
       "      <td>62574.0</td>\n",
       "      <td>703</td>\n",
       "      <td>13316</td>\n",
       "      <td>14019</td>\n",
       "    </tr>\n",
       "    <tr>\n",
       "      <th>2020-04-30</th>\n",
       "      <td>61673751</td>\n",
       "      <td>62292.0</td>\n",
       "      <td>698</td>\n",
       "      <td>13286</td>\n",
       "      <td>13984</td>\n",
       "    </tr>\n",
       "    <tr>\n",
       "      <th>2020-05-31</th>\n",
       "      <td>61820238</td>\n",
       "      <td>62292.0</td>\n",
       "      <td>681</td>\n",
       "      <td>13212</td>\n",
       "      <td>13893</td>\n",
       "    </tr>\n",
       "    <tr>\n",
       "      <th>2020-06-30</th>\n",
       "      <td>62393066</td>\n",
       "      <td>62912.0</td>\n",
       "      <td>691</td>\n",
       "      <td>13171</td>\n",
       "      <td>13862</td>\n",
       "    </tr>\n",
       "    <tr>\n",
       "      <th>2020-07-31</th>\n",
       "      <td>61681214</td>\n",
       "      <td>62329.0</td>\n",
       "      <td>684</td>\n",
       "      <td>13054</td>\n",
       "      <td>13738</td>\n",
       "    </tr>\n",
       "  </tbody>\n",
       "</table>\n",
       "<p>82 rows × 5 columns</p>\n",
       "</div>"
      ],
      "text/plain": [
       "            Contribution_ID  M49_Code  Female_Personnel  Male_Personnel  total\n",
       "Date                                                                          \n",
       "2013-07-31          1632093   20886.0                57            6237   6294\n",
       "2013-08-31          1782510   20878.0                36            5974   6010\n",
       "2013-09-30          1630384   20268.0                31            5974   6005\n",
       "2013-10-31          1944083   23676.0                40            5832   5872\n",
       "2013-11-30          2229969   26230.0                63            6284   6347\n",
       "...                     ...       ...               ...             ...    ...\n",
       "2020-03-31         61525844   62574.0               703           13316  14019\n",
       "2020-04-30         61673751   62292.0               698           13286  13984\n",
       "2020-05-31         61820238   62292.0               681           13212  13893\n",
       "2020-06-30         62393066   62912.0               691           13171  13862\n",
       "2020-07-31         61681214   62329.0               684           13054  13738\n",
       "\n",
       "[82 rows x 5 columns]"
      ]
     },
     "execution_count": 34,
     "metadata": {},
     "output_type": "execute_result"
    }
   ],
   "source": [
    "minusma"
   ]
  },
  {
   "cell_type": "code",
   "execution_count": 35,
   "id": "bebc0779-ef12-4b4a-862e-8082bd04c358",
   "metadata": {},
   "outputs": [
    {
     "data": {
      "text/html": [
       "<div>\n",
       "<style scoped>\n",
       "    .dataframe tbody tr th:only-of-type {\n",
       "        vertical-align: middle;\n",
       "    }\n",
       "\n",
       "    .dataframe tbody tr th {\n",
       "        vertical-align: top;\n",
       "    }\n",
       "\n",
       "    .dataframe thead th {\n",
       "        text-align: right;\n",
       "    }\n",
       "</style>\n",
       "<table border=\"1\" class=\"dataframe\">\n",
       "  <thead>\n",
       "    <tr style=\"text-align: right;\">\n",
       "      <th></th>\n",
       "      <th>Contribution_ID</th>\n",
       "      <th>M49_Code</th>\n",
       "      <th>Female_Personnel</th>\n",
       "      <th>Male_Personnel</th>\n",
       "      <th>total</th>\n",
       "    </tr>\n",
       "  </thead>\n",
       "  <tbody>\n",
       "    <tr>\n",
       "      <th>count</th>\n",
       "      <td>8.200000e+01</td>\n",
       "      <td>82.000000</td>\n",
       "      <td>82.000000</td>\n",
       "      <td>82.000000</td>\n",
       "      <td>82.000000</td>\n",
       "    </tr>\n",
       "    <tr>\n",
       "      <th>mean</th>\n",
       "      <td>1.959537e+07</td>\n",
       "      <td>45560.902439</td>\n",
       "      <td>353.939024</td>\n",
       "      <td>11414.914634</td>\n",
       "      <td>11768.853659</td>\n",
       "    </tr>\n",
       "    <tr>\n",
       "      <th>std</th>\n",
       "      <td>2.138854e+07</td>\n",
       "      <td>13404.660207</td>\n",
       "      <td>206.522312</td>\n",
       "      <td>2336.334404</td>\n",
       "      <td>2517.833922</td>\n",
       "    </tr>\n",
       "    <tr>\n",
       "      <th>min</th>\n",
       "      <td>1.630384e+06</td>\n",
       "      <td>20268.000000</td>\n",
       "      <td>31.000000</td>\n",
       "      <td>5832.000000</td>\n",
       "      <td>5872.000000</td>\n",
       "    </tr>\n",
       "    <tr>\n",
       "      <th>25%</th>\n",
       "      <td>3.996181e+06</td>\n",
       "      <td>33526.500000</td>\n",
       "      <td>197.500000</td>\n",
       "      <td>9918.750000</td>\n",
       "      <td>10125.250000</td>\n",
       "    </tr>\n",
       "    <tr>\n",
       "      <th>50%</th>\n",
       "      <td>7.321261e+06</td>\n",
       "      <td>42179.000000</td>\n",
       "      <td>299.000000</td>\n",
       "      <td>11764.500000</td>\n",
       "      <td>12039.500000</td>\n",
       "    </tr>\n",
       "    <tr>\n",
       "      <th>75%</th>\n",
       "      <td>4.048611e+07</td>\n",
       "      <td>59964.500000</td>\n",
       "      <td>555.750000</td>\n",
       "      <td>13221.000000</td>\n",
       "      <td>13882.000000</td>\n",
       "    </tr>\n",
       "    <tr>\n",
       "      <th>max</th>\n",
       "      <td>6.239307e+07</td>\n",
       "      <td>62912.000000</td>\n",
       "      <td>706.000000</td>\n",
       "      <td>14283.000000</td>\n",
       "      <td>14871.000000</td>\n",
       "    </tr>\n",
       "  </tbody>\n",
       "</table>\n",
       "</div>"
      ],
      "text/plain": [
       "       Contribution_ID      M49_Code  Female_Personnel  Male_Personnel  \\\n",
       "count     8.200000e+01     82.000000         82.000000       82.000000   \n",
       "mean      1.959537e+07  45560.902439        353.939024    11414.914634   \n",
       "std       2.138854e+07  13404.660207        206.522312     2336.334404   \n",
       "min       1.630384e+06  20268.000000         31.000000     5832.000000   \n",
       "25%       3.996181e+06  33526.500000        197.500000     9918.750000   \n",
       "50%       7.321261e+06  42179.000000        299.000000    11764.500000   \n",
       "75%       4.048611e+07  59964.500000        555.750000    13221.000000   \n",
       "max       6.239307e+07  62912.000000        706.000000    14283.000000   \n",
       "\n",
       "              total  \n",
       "count     82.000000  \n",
       "mean   11768.853659  \n",
       "std     2517.833922  \n",
       "min     5872.000000  \n",
       "25%    10125.250000  \n",
       "50%    12039.500000  \n",
       "75%    13882.000000  \n",
       "max    14871.000000  "
      ]
     },
     "execution_count": 35,
     "metadata": {},
     "output_type": "execute_result"
    }
   ],
   "source": [
    "minusma.describe()"
   ]
  },
  {
   "cell_type": "code",
   "execution_count": 36,
   "id": "90a76554-eab1-4a6b-83ca-d18eb5842062",
   "metadata": {},
   "outputs": [
    {
     "data": {
      "text/html": [
       "<div>\n",
       "<style scoped>\n",
       "    .dataframe tbody tr th:only-of-type {\n",
       "        vertical-align: middle;\n",
       "    }\n",
       "\n",
       "    .dataframe tbody tr th {\n",
       "        vertical-align: top;\n",
       "    }\n",
       "\n",
       "    .dataframe thead th {\n",
       "        text-align: right;\n",
       "    }\n",
       "</style>\n",
       "<table border=\"1\" class=\"dataframe\">\n",
       "  <thead>\n",
       "    <tr style=\"text-align: right;\">\n",
       "      <th></th>\n",
       "      <th>Contribution_ID</th>\n",
       "      <th>M49_Code</th>\n",
       "      <th>Female_Personnel</th>\n",
       "      <th>Male_Personnel</th>\n",
       "      <th>total</th>\n",
       "    </tr>\n",
       "    <tr>\n",
       "      <th>Date</th>\n",
       "      <th></th>\n",
       "      <th></th>\n",
       "      <th></th>\n",
       "      <th></th>\n",
       "      <th></th>\n",
       "    </tr>\n",
       "  </thead>\n",
       "  <tbody>\n",
       "    <tr>\n",
       "      <th>2013-10-31</th>\n",
       "      <td>1944083</td>\n",
       "      <td>23676.0</td>\n",
       "      <td>40</td>\n",
       "      <td>5832</td>\n",
       "      <td>5872</td>\n",
       "    </tr>\n",
       "  </tbody>\n",
       "</table>\n",
       "</div>"
      ],
      "text/plain": [
       "            Contribution_ID  M49_Code  Female_Personnel  Male_Personnel  total\n",
       "Date                                                                          \n",
       "2013-10-31          1944083   23676.0                40            5832   5872"
      ]
     },
     "execution_count": 36,
     "metadata": {},
     "output_type": "execute_result"
    }
   ],
   "source": [
    "minusma[minusma.total == 5872]"
   ]
  },
  {
   "cell_type": "code",
   "execution_count": 37,
   "id": "6445503e-ff9a-482b-88c6-ad33c091b8e2",
   "metadata": {},
   "outputs": [
    {
     "data": {
      "text/html": [
       "<div>\n",
       "<style scoped>\n",
       "    .dataframe tbody tr th:only-of-type {\n",
       "        vertical-align: middle;\n",
       "    }\n",
       "\n",
       "    .dataframe tbody tr th {\n",
       "        vertical-align: top;\n",
       "    }\n",
       "\n",
       "    .dataframe thead th {\n",
       "        text-align: right;\n",
       "    }\n",
       "</style>\n",
       "<table border=\"1\" class=\"dataframe\">\n",
       "  <thead>\n",
       "    <tr style=\"text-align: right;\">\n",
       "      <th></th>\n",
       "      <th>Contribution_ID</th>\n",
       "      <th>M49_Code</th>\n",
       "      <th>Female_Personnel</th>\n",
       "      <th>Male_Personnel</th>\n",
       "      <th>total</th>\n",
       "    </tr>\n",
       "    <tr>\n",
       "      <th>Date</th>\n",
       "      <th></th>\n",
       "      <th></th>\n",
       "      <th></th>\n",
       "      <th></th>\n",
       "      <th></th>\n",
       "    </tr>\n",
       "  </thead>\n",
       "  <tbody>\n",
       "    <tr>\n",
       "      <th>2019-03-31</th>\n",
       "      <td>40932643</td>\n",
       "      <td>60031.0</td>\n",
       "      <td>588</td>\n",
       "      <td>14283</td>\n",
       "      <td>14871</td>\n",
       "    </tr>\n",
       "  </tbody>\n",
       "</table>\n",
       "</div>"
      ],
      "text/plain": [
       "            Contribution_ID  M49_Code  Female_Personnel  Male_Personnel  total\n",
       "Date                                                                          \n",
       "2019-03-31         40932643   60031.0               588           14283  14871"
      ]
     },
     "execution_count": 37,
     "metadata": {},
     "output_type": "execute_result"
    }
   ],
   "source": [
    "minusma[minusma.total == 14871]"
   ]
  },
  {
   "cell_type": "code",
   "execution_count": 38,
   "id": "66287c64-1a4e-4882-8d7b-5085ed8c3728",
   "metadata": {},
   "outputs": [
    {
     "data": {
      "text/plain": [
       "12039.5"
      ]
     },
     "execution_count": 38,
     "metadata": {},
     "output_type": "execute_result"
    }
   ],
   "source": [
    "minusma.total.median()"
   ]
  },
  {
   "cell_type": "markdown",
   "id": "2a233e68-f067-4f92-828a-31965d992257",
   "metadata": {},
   "source": [
    "(a) Across time, how much total personnel was stationed there on average? - 11768.853659\n",
    "(a) What was the median? 12039.5\n",
    "(b) The 25th and 75th quartile? 10125.250000 , 13882.000000\n",
    "(c) When was the lowest point and how many troops were stationed there then? 5872, 2013-10-31\n",
    "(d) When was the highest and how many? 14871, 2019-03-31\n"
   ]
  }
 ],
 "metadata": {
  "kernelspec": {
   "display_name": "Python 3",
   "language": "python",
   "name": "python3"
  },
  "language_info": {
   "codemirror_mode": {
    "name": "ipython",
    "version": 3
   },
   "file_extension": ".py",
   "mimetype": "text/x-python",
   "name": "python",
   "nbconvert_exporter": "python",
   "pygments_lexer": "ipython3",
   "version": "3.8.5"
  }
 },
 "nbformat": 4,
 "nbformat_minor": 5
}
