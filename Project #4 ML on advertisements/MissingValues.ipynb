{
 "cells": [
  {
   "cell_type": "code",
   "execution_count": null,
   "id": "6b24ba57-5d36-4481-8f52-1bdabb853f19",
   "metadata": {},
   "outputs": [],
   "source": [
    "#to show the missing values\n",
    "msno.bar(df)"
   ]
  },
  {
   "cell_type": "code",
   "execution_count": null,
   "id": "d8c05a0a-05a7-43cd-b15c-8f224b99f4b9",
   "metadata": {},
   "outputs": [],
   "source": [
    "#to replace the values:\n",
    "zero_not_accepted = [\"list of columns from the dataset we want to skim the zeros out\"]\n",
    "\n",
    "for column in zero_not_accepted:\n",
    "    df[column] = df[column].replace(0, np.NaN)\n",
    "    mean = int(df[column].mean(skipna=True))\n",
    "    df[column] = df[column].replace(np.NaN, mean)"
   ]
  }
 ],
 "metadata": {
  "kernelspec": {
   "display_name": "Python 3",
   "language": "python",
   "name": "python3"
  },
  "language_info": {
   "codemirror_mode": {
    "name": "ipython",
    "version": 3
   },
   "file_extension": ".py",
   "mimetype": "text/x-python",
   "name": "python",
   "nbconvert_exporter": "python",
   "pygments_lexer": "ipython3",
   "version": "3.8.5"
  }
 },
 "nbformat": 4,
 "nbformat_minor": 5
}
